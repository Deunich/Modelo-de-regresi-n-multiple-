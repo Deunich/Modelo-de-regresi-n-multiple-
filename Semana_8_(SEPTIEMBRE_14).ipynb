{
  "cells": [
    {
      "cell_type": "markdown",
      "metadata": {
        "id": "view-in-github",
        "colab_type": "text"
      },
      "source": [
        "<a href=\"https://colab.research.google.com/github/Deunich/Modelo-de-regresi-n-multiple-/blob/main/Semana_8_(SEPTIEMBRE_14).ipynb\" target=\"_parent\"><img src=\"https://colab.research.google.com/assets/colab-badge.svg\" alt=\"Open In Colab\"/></a>"
      ]
    },
    {
      "cell_type": "code",
      "execution_count": null,
      "id": "fe982571",
      "metadata": {
        "ExecuteTime": {
          "end_time": "2022-09-14T01:59:19.643606Z",
          "start_time": "2022-09-14T01:59:19.621656Z"
        },
        "id": "fe982571"
      },
      "outputs": [],
      "source": [
        "import numpy as np\n",
        "import matplotlib.pyplot as plt\n",
        "from scipy.stats import norm\n",
        "%matplotlib inline"
      ]
    },
    {
      "cell_type": "code",
      "execution_count": null,
      "id": "cb62b17c",
      "metadata": {
        "ExecuteTime": {
          "end_time": "2022-09-14T01:59:19.987503Z",
          "start_time": "2022-09-14T01:59:19.982573Z"
        },
        "id": "cb62b17c"
      },
      "outputs": [],
      "source": [
        "## Definir las constantes\n",
        "mu=998.8\n",
        "sigma=73.10\n",
        "x1=990\n",
        "x2=1100\n"
      ]
    },
    {
      "cell_type": "code",
      "execution_count": null,
      "id": "8dc8a8e9",
      "metadata": {
        "ExecuteTime": {
          "end_time": "2022-09-14T01:59:20.217081Z",
          "start_time": "2022-09-14T01:59:20.209511Z"
        },
        "id": "8dc8a8e9",
        "outputId": "2efc7397-5ae6-49ad-de1a-02e38d51cf07"
      },
      "outputs": [
        {
          "name": "stdout",
          "output_type": "stream",
          "text": [
            "-0.1203830369357039 1.3844049247606027\n"
          ]
        }
      ],
      "source": [
        "## Calcular z\n",
        "z1=(x1-mu)/sigma\n",
        "z2=(x2-mu)/sigma\n",
        "print(z1,z2)"
      ]
    },
    {
      "cell_type": "code",
      "execution_count": null,
      "id": "086a6ff8",
      "metadata": {
        "ExecuteTime": {
          "end_time": "2022-09-14T01:59:20.645939Z",
          "start_time": "2022-09-14T01:59:20.642180Z"
        },
        "id": "086a6ff8"
      },
      "outputs": [],
      "source": [
        "## Graficar la campana"
      ]
    },
    {
      "cell_type": "code",
      "execution_count": null,
      "id": "a79c8e61",
      "metadata": {
        "ExecuteTime": {
          "end_time": "2022-09-14T01:59:21.436260Z",
          "start_time": "2022-09-14T01:59:21.189228Z"
        },
        "id": "a79c8e61",
        "outputId": "6abe6afd-3084-4217-c79f-35363978fe16"
      },
      "outputs": [
        {
          "data": {
            "image/png": "[encoded data removed]",
            "text/plain": [
              "<Figure size 648x432 with 1 Axes>"
            ]
          },
          "metadata": {
            "needs_background": "light"
          },
          "output_type": "display_data"
        }
      ],
      "source": [
        "x=np.arange(z1,z2,0.0001)\n",
        "x2=np.arange(-10,10,0.0001)\n",
        "y= norm.pdf(x,0,1)\n",
        "y2=norm.pdf(x2,0,1)\n",
        "fig,ax=plt.subplots(figsize=(9,6))\n",
        "plt.style.use('fivethirtyeight')\n",
        "\n",
        "ax.plot(x2,y2)\n",
        "ax.fill_between(x,y,0,color=\"g\")\n",
        "ax.fill_between(x2,y2,0,alpha=0.1)\n",
        "ax.set_xlim(-4,4)\n",
        "ax.set_xlabel(\"número del elementos fuera del promedio\")\n",
        "ax.set_title(\"Curva gaussiana o distribución normal\")\n",
        "plt.savefig(\"Gaussiana.png\")\n",
        "plt.show()"
      ]
    },
    {
      "cell_type": "code",
      "execution_count": null,
      "id": "45a4751c",
      "metadata": {
        "ExecuteTime": {
          "end_time": "2022-09-14T01:59:22.443880Z",
          "start_time": "2022-09-14T01:59:22.439222Z"
        },
        "id": "45a4751c"
      },
      "outputs": [],
      "source": [
        "## Definir las constantes\n",
        "mu=998.8\n",
        "sigma=73.10\n",
        "x1=980\n",
        "x2=1020"
      ]
    },
    {
      "cell_type": "code",
      "execution_count": null,
      "id": "9c482277",
      "metadata": {
        "ExecuteTime": {
          "end_time": "2022-09-14T01:59:23.071196Z",
          "start_time": "2022-09-14T01:59:23.066356Z"
        },
        "id": "9c482277",
        "outputId": "927e7f7b-913e-457e-d775-486c4f0fb4a1"
      },
      "outputs": [
        {
          "name": "stdout",
          "output_type": "stream",
          "text": [
            "-0.25718194254445903 0.29001367989056154\n"
          ]
        }
      ],
      "source": [
        "## Calcular z\n",
        "z1=(x1-mu)/sigma\n",
        "z2=(x2-mu)/sigma\n",
        "print(z1,z2)"
      ]
    },
    {
      "cell_type": "code",
      "execution_count": null,
      "id": "447fa7d9",
      "metadata": {
        "ExecuteTime": {
          "end_time": "2022-09-14T01:59:23.710650Z",
          "start_time": "2022-09-14T01:59:23.488757Z"
        },
        "id": "447fa7d9",
        "outputId": "2841a9ac-7782-49dc-eef1-e77aaae5fbaf"
      },
      "outputs": [
        {
          "data": {
            "image/png": "[encoded data removed]",
            "text/plain": [
              "<Figure size 648x432 with 1 Axes>"
            ]
          },
          "metadata": {},
          "output_type": "display_data"
        }
      ],
      "source": [
        "x=np.arange(z1,z2,0.0001)\n",
        "x2=np.arange(-10,10,0.0001)\n",
        "y= norm.pdf(x,0,1)\n",
        "y2=norm.pdf(x2,0,1)\n",
        "fig,ax=plt.subplots(figsize=(9,6))\n",
        "plt.style.use('fivethirtyeight')\n",
        "\n",
        "ax.plot(x2,y2)\n",
        "ax.fill_between(x,y,0,color=\"g\")\n",
        "ax.fill_between(x2,y2,0,alpha=0.1)\n",
        "ax.set_xlim(-4,4)\n",
        "ax.set_xlabel(\"número del elementos fuera del promedio\")\n",
        "ax.set_title(\"Curva gaussiana o distribución normal\")\n",
        "plt.savefig(\"Gaussiana2.png\")\n",
        "plt.show()"
      ]
    },
    {
      "cell_type": "code",
      "execution_count": null,
      "id": "de578e46",
      "metadata": {
        "ExecuteTime": {
          "end_time": "2022-09-14T02:39:18.779871Z",
          "start_time": "2022-09-14T02:39:07.499727Z"
        },
        "id": "de578e46",
        "outputId": "1ff60538-1baf-4bda-c3dc-6eb2ab29ac7f"
      },
      "outputs": [
        {
          "name": "stdout",
          "output_type": "stream",
          "text": [
            "Collecting bioinfokit\n",
            "  Downloading bioinfokit-2.1.0.tar.gz (86 kB)\n",
            "\u001b[K     |████████████████████████████████| 86 kB 931 kB/s eta 0:00:01\n",
            "\u001b[?25hRequirement already satisfied: pandas in /Users/juancamilosierra/opt/anaconda3/lib/python3.9/site-packages (from bioinfokit) (1.4.4)\n",
            "Requirement already satisfied: numpy in /Users/juancamilosierra/opt/anaconda3/lib/python3.9/site-packages (from bioinfokit) (1.21.5)\n",
            "Requirement already satisfied: matplotlib in /Users/juancamilosierra/opt/anaconda3/lib/python3.9/site-packages (from bioinfokit) (3.5.1)\n",
            "Requirement already satisfied: scipy in /Users/juancamilosierra/opt/anaconda3/lib/python3.9/site-packages (from bioinfokit) (1.7.3)\n",
            "Requirement already satisfied: scikit-learn in /Users/juancamilosierra/opt/anaconda3/lib/python3.9/site-packages (from bioinfokit) (1.0.2)\n",
            "Requirement already satisfied: seaborn in /Users/juancamilosierra/opt/anaconda3/lib/python3.9/site-packages (from bioinfokit) (0.11.2)\n",
            "Collecting matplotlib-venn\n",
            "  Downloading matplotlib-venn-0.11.7.tar.gz (29 kB)\n",
            "Requirement already satisfied: tabulate in /Users/juancamilosierra/opt/anaconda3/lib/python3.9/site-packages (from bioinfokit) (0.8.9)\n",
            "Requirement already satisfied: statsmodels in /Users/juancamilosierra/opt/anaconda3/lib/python3.9/site-packages (from bioinfokit) (0.13.2)\n",
            "Collecting textwrap3\n",
            "  Downloading textwrap3-0.9.2-py2.py3-none-any.whl (12 kB)\n",
            "Collecting adjustText\n",
            "  Downloading adjustText-0.7.3.tar.gz (7.5 kB)\n",
            "Requirement already satisfied: kiwisolver>=1.0.1 in /Users/juancamilosierra/opt/anaconda3/lib/python3.9/site-packages (from matplotlib->bioinfokit) (1.3.2)\n",
            "Requirement already satisfied: packaging>=20.0 in /Users/juancamilosierra/opt/anaconda3/lib/python3.9/site-packages (from matplotlib->bioinfokit) (21.3)\n",
            "Requirement already satisfied: cycler>=0.10 in /Users/juancamilosierra/opt/anaconda3/lib/python3.9/site-packages (from matplotlib->bioinfokit) (0.11.0)\n",
            "Requirement already satisfied: python-dateutil>=2.7 in /Users/juancamilosierra/opt/anaconda3/lib/python3.9/site-packages (from matplotlib->bioinfokit) (2.8.2)\n",
            "Requirement already satisfied: pyparsing>=2.2.1 in /Users/juancamilosierra/opt/anaconda3/lib/python3.9/site-packages (from matplotlib->bioinfokit) (3.0.4)\n",
            "Requirement already satisfied: fonttools>=4.22.0 in /Users/juancamilosierra/opt/anaconda3/lib/python3.9/site-packages (from matplotlib->bioinfokit) (4.25.0)\n",
            "Requirement already satisfied: pillow>=6.2.0 in /Users/juancamilosierra/opt/anaconda3/lib/python3.9/site-packages (from matplotlib->bioinfokit) (9.0.1)\n",
            "Requirement already satisfied: six>=1.5 in /Users/juancamilosierra/opt/anaconda3/lib/python3.9/site-packages (from python-dateutil>=2.7->matplotlib->bioinfokit) (1.16.0)\n",
            "Requirement already satisfied: pytz>=2020.1 in /Users/juancamilosierra/opt/anaconda3/lib/python3.9/site-packages (from pandas->bioinfokit) (2021.3)\n",
            "Requirement already satisfied: joblib>=0.11 in /Users/juancamilosierra/opt/anaconda3/lib/python3.9/site-packages (from scikit-learn->bioinfokit) (1.1.0)\n",
            "Requirement already satisfied: threadpoolctl>=2.0.0 in /Users/juancamilosierra/opt/anaconda3/lib/python3.9/site-packages (from scikit-learn->bioinfokit) (2.2.0)\n",
            "Requirement already satisfied: patsy>=0.5.2 in /Users/juancamilosierra/opt/anaconda3/lib/python3.9/site-packages (from statsmodels->bioinfokit) (0.5.2)\n",
            "Building wheels for collected packages: bioinfokit, adjustText, matplotlib-venn\n",
            "  Building wheel for bioinfokit (setup.py) ... \u001b[?25ldone\n",
            "\u001b[?25h  Created wheel for bioinfokit: filename=bioinfokit-2.1.0-py3-none-any.whl size=58665 sha256=973a7c44c3088a8700968db184100d64332f3ad3de79a3af4e2ed85ab066ed7d\n",
            "  Stored in directory: /Users/juancamilosierra/Library/Caches/pip/wheels/c9/ab/ed/8a7fde0a63653b75ac029d67598265d185e5915dfb594ddc59\n",
            "  Building wheel for adjustText (setup.py) ... \u001b[?25ldone\n",
            "\u001b[?25h  Created wheel for adjustText: filename=adjustText-0.7.3-py3-none-any.whl size=7097 sha256=f91283d4a1f486b9b49dde58da945da8eb061665e7dc67b12801cdc69f391f28\n",
            "  Stored in directory: /Users/juancamilosierra/Library/Caches/pip/wheels/6b/1d/79/4326d5f3a7d86fb9900e5564e7a0f98b552da5103ca762f24f\n",
            "  Building wheel for matplotlib-venn (setup.py) ... \u001b[?25ldone\n",
            "\u001b[?25h  Created wheel for matplotlib-venn: filename=matplotlib_venn-0.11.7-py3-none-any.whl size=32155 sha256=05c4d1b90897016f28bf9f006372fd7402beb77e8b2af12555068f66c38bd3f5\n",
            "  Stored in directory: /Users/juancamilosierra/Library/Caches/pip/wheels/32/41/5f/d0f29cd092d042d8e8a87d7bbe42193166aa555ff38b377343\n",
            "Successfully built bioinfokit adjustText matplotlib-venn\n",
            "Installing collected packages: textwrap3, matplotlib-venn, adjustText, bioinfokit\n",
            "Successfully installed adjustText-0.7.3 bioinfokit-2.1.0 matplotlib-venn-0.11.7 textwrap3-0.9.2\n",
            "Note: you may need to restart the kernel to use updated packages.\n"
          ]
        }
      ],
      "source": [
        "pip install bioinfokit"
      ]
    },
    {
      "cell_type": "code",
      "execution_count": null,
      "id": "85f98b0a",
      "metadata": {
        "ExecuteTime": {
          "end_time": "2022-09-14T02:40:06.792873Z",
          "start_time": "2022-09-14T02:40:06.791040Z"
        },
        "id": "85f98b0a"
      },
      "outputs": [],
      "source": [
        "from bioinfokit.analys import get_data, stat"
      ]
    },
    {
      "cell_type": "code",
      "execution_count": null,
      "id": "a318e1c4",
      "metadata": {
        "ExecuteTime": {
          "end_time": "2022-09-14T02:40:29.340756Z",
          "start_time": "2022-09-14T02:40:29.337521Z"
        },
        "id": "a318e1c4"
      },
      "outputs": [],
      "source": [
        "import pandas as pd"
      ]
    },
    {
      "cell_type": "code",
      "execution_count": null,
      "id": "0cd1277d",
      "metadata": {
        "ExecuteTime": {
          "end_time": "2022-09-14T02:46:20.088460Z",
          "start_time": "2022-09-14T02:46:20.013714Z"
        },
        "id": "0cd1277d"
      },
      "outputs": [],
      "source": [
        "df = pd.read_excel('/Users/juancamilosierra/Desktop/Clases/Segundo Semestre/Econometria 1/Parcial 1/wage2.xls')"
      ]
    },
    {
      "cell_type": "code",
      "execution_count": null,
      "id": "abf6ed92",
      "metadata": {
        "ExecuteTime": {
          "end_time": "2022-09-14T03:01:46.260238Z",
          "start_time": "2022-09-14T03:01:46.220995Z"
        },
        "id": "abf6ed92",
        "outputId": "435ade09-627e-488a-9ee5-81b46f951852"
      },
      "outputs": [
        {
          "data": {
            "text/html": [
              "<div>\n",
              "<style scoped>\n",
              "    .dataframe tbody tr th:only-of-type {\n",
              "        vertical-align: middle;\n",
              "    }\n",
              "\n",
              "    .dataframe tbody tr th {\n",
              "        vertical-align: top;\n",
              "    }\n",
              "\n",
              "    .dataframe thead th {\n",
              "        text-align: right;\n",
              "    }\n",
              "</style>\n",
              "<table border=\"1\" class=\"dataframe\">\n",
              "  <thead>\n",
              "    <tr style=\"text-align: right;\">\n",
              "      <th></th>\n",
              "      <th>wage</th>\n",
              "      <th>hours</th>\n",
              "      <th>IQ</th>\n",
              "      <th>KWW</th>\n",
              "      <th>educ</th>\n",
              "      <th>exper</th>\n",
              "      <th>tenure</th>\n",
              "      <th>age</th>\n",
              "      <th>married</th>\n",
              "      <th>black</th>\n",
              "      <th>south</th>\n",
              "      <th>urban</th>\n",
              "      <th>sibs</th>\n",
              "      <th>brthord</th>\n",
              "      <th>meduc</th>\n",
              "      <th>feduc</th>\n",
              "    </tr>\n",
              "  </thead>\n",
              "  <tbody>\n",
              "    <tr>\n",
              "      <th>0</th>\n",
              "      <td>769</td>\n",
              "      <td>40</td>\n",
              "      <td>93</td>\n",
              "      <td>35</td>\n",
              "      <td>12</td>\n",
              "      <td>11</td>\n",
              "      <td>2</td>\n",
              "      <td>31</td>\n",
              "      <td>1</td>\n",
              "      <td>0</td>\n",
              "      <td>0</td>\n",
              "      <td>1</td>\n",
              "      <td>1</td>\n",
              "      <td>2</td>\n",
              "      <td>8</td>\n",
              "      <td>8</td>\n",
              "    </tr>\n",
              "    <tr>\n",
              "      <th>1</th>\n",
              "      <td>808</td>\n",
              "      <td>50</td>\n",
              "      <td>119</td>\n",
              "      <td>41</td>\n",
              "      <td>18</td>\n",
              "      <td>11</td>\n",
              "      <td>16</td>\n",
              "      <td>37</td>\n",
              "      <td>1</td>\n",
              "      <td>0</td>\n",
              "      <td>0</td>\n",
              "      <td>1</td>\n",
              "      <td>1</td>\n",
              "      <td>.</td>\n",
              "      <td>14</td>\n",
              "      <td>14</td>\n",
              "    </tr>\n",
              "    <tr>\n",
              "      <th>2</th>\n",
              "      <td>825</td>\n",
              "      <td>40</td>\n",
              "      <td>108</td>\n",
              "      <td>46</td>\n",
              "      <td>14</td>\n",
              "      <td>11</td>\n",
              "      <td>9</td>\n",
              "      <td>33</td>\n",
              "      <td>1</td>\n",
              "      <td>0</td>\n",
              "      <td>0</td>\n",
              "      <td>1</td>\n",
              "      <td>1</td>\n",
              "      <td>2</td>\n",
              "      <td>14</td>\n",
              "      <td>14</td>\n",
              "    </tr>\n",
              "    <tr>\n",
              "      <th>3</th>\n",
              "      <td>650</td>\n",
              "      <td>40</td>\n",
              "      <td>96</td>\n",
              "      <td>32</td>\n",
              "      <td>12</td>\n",
              "      <td>13</td>\n",
              "      <td>7</td>\n",
              "      <td>32</td>\n",
              "      <td>1</td>\n",
              "      <td>0</td>\n",
              "      <td>0</td>\n",
              "      <td>1</td>\n",
              "      <td>4</td>\n",
              "      <td>3</td>\n",
              "      <td>12</td>\n",
              "      <td>12</td>\n",
              "    </tr>\n",
              "    <tr>\n",
              "      <th>4</th>\n",
              "      <td>562</td>\n",
              "      <td>40</td>\n",
              "      <td>74</td>\n",
              "      <td>27</td>\n",
              "      <td>11</td>\n",
              "      <td>14</td>\n",
              "      <td>5</td>\n",
              "      <td>34</td>\n",
              "      <td>1</td>\n",
              "      <td>0</td>\n",
              "      <td>0</td>\n",
              "      <td>1</td>\n",
              "      <td>10</td>\n",
              "      <td>6</td>\n",
              "      <td>6</td>\n",
              "      <td>11</td>\n",
              "    </tr>\n",
              "  </tbody>\n",
              "</table>\n",
              "</div>"
            ],
            "text/plain": [
              "   wage  hours   IQ  KWW  educ  exper  ...  south  urban  sibs  brthord  meduc  feduc\n",
              "0   769     40   93   35    12     11  ...      0      1     1        2      8      8\n",
              "1   808     50  119   41    18     11  ...      0      1     1        .     14     14\n",
              "2   825     40  108   46    14     11  ...      0      1     1        2     14     14\n",
              "3   650     40   96   32    12     13  ...      0      1     4        3     12     12\n",
              "4   562     40   74   27    11     14  ...      0      1    10        6      6     11\n",
              "\n",
              "[5 rows x 16 columns]"
            ]
          },
          "execution_count": 49,
          "metadata": {},
          "output_type": "execute_result"
        }
      ],
      "source": [
        "df.head()"
      ]
    },
    {
      "cell_type": "code",
      "execution_count": null,
      "id": "f60cc322",
      "metadata": {
        "ExecuteTime": {
          "end_time": "2022-09-14T03:03:58.891227Z",
          "start_time": "2022-09-14T03:03:58.884350Z"
        },
        "id": "f60cc322"
      },
      "outputs": [],
      "source": [
        "import numpy as np\n",
        "import statsmodels.formula.api as smf\n",
        "import seaborn as sns\n",
        "import scipy.stats as ss"
      ]
    },
    {
      "cell_type": "code",
      "execution_count": null,
      "id": "f0045506",
      "metadata": {
        "ExecuteTime": {
          "end_time": "2022-09-14T03:01:50.987726Z",
          "start_time": "2022-09-14T03:01:50.942490Z"
        },
        "id": "f0045506",
        "outputId": "57957bae-7560-425e-c220-cba165a8ce8b"
      },
      "outputs": [
        {
          "name": "stdout",
          "output_type": "stream",
          "text": [
            "                            OLS Regression Results                            \n",
            "==============================================================================\n",
            "Dep. Variable:                   wage   R-squared:                       0.170\n",
            "Model:                            OLS   Adj. R-squared:                  0.166\n",
            "Method:                 Least Squares   F-statistic:                     47.59\n",
            "Date:                Tue, 13 Sep 2022   Prob (F-statistic):           1.98e-36\n",
            "Time:                        22:01:50   Log-Likelihood:                -6851.3\n",
            "No. Observations:                 935   AIC:                         1.371e+04\n",
            "Df Residuals:                     930   BIC:                         1.374e+04\n",
            "Df Model:                           4                                         \n",
            "Covariance Type:            nonrobust                                         \n",
            "==============================================================================\n",
            "                 coef    std err          t      P>|t|      [0.025      0.975]\n",
            "------------------------------------------------------------------------------\n",
            "Intercept   -532.4066    116.250     -4.580      0.000    -760.549    -304.264\n",
            "educ          57.1980      7.033      8.133      0.000      43.395      71.001\n",
            "exper         14.9778      3.209      4.668      0.000       8.681      21.275\n",
            "tenure         7.3599      2.470      2.980      0.003       2.513      12.207\n",
            "IQ             4.8729      0.939      5.189      0.000       3.030       6.716\n",
            "==============================================================================\n",
            "Omnibus:                      235.492   Durbin-Watson:                   1.831\n",
            "Prob(Omnibus):                  0.000   Jarque-Bera (JB):              738.364\n",
            "Skew:                           1.223   Prob(JB):                    4.64e-161\n",
            "Kurtosis:                       6.601   Cond. No.                     1.00e+03\n",
            "==============================================================================\n",
            "\n",
            "Notes:\n",
            "[1] Standard Errors assume that the covariance matrix of the errors is correctly specified.\n",
            "[2] The condition number is large,  1e+03. This might indicate that there are\n",
            "strong multicollinearity or other numerical problems.\n"
          ]
        }
      ],
      "source": [
        "reg = smf.ols('wage ~ educ + exper + tenure + IQ ', data=df)\n",
        "res = reg.fit()\n",
        "print(res.summary())"
      ]
    },
    {
      "cell_type": "code",
      "execution_count": null,
      "id": "ff18ee78",
      "metadata": {
        "ExecuteTime": {
          "end_time": "2022-09-14T03:02:00.530086Z",
          "start_time": "2022-09-14T03:02:00.523781Z"
        },
        "id": "ff18ee78",
        "outputId": "0bc73f52-4838-4bd5-d564-9b3d1988dddc"
      },
      "outputs": [
        {
          "data": {
            "text/plain": [
              "(935, 16)"
            ]
          },
          "execution_count": 52,
          "metadata": {},
          "output_type": "execute_result"
        }
      ],
      "source": [
        "df.shape"
      ]
    },
    {
      "cell_type": "code",
      "execution_count": null,
      "id": "0ff9e6c7",
      "metadata": {
        "ExecuteTime": {
          "end_time": "2022-09-14T03:02:01.797608Z",
          "start_time": "2022-09-14T03:02:01.746712Z"
        },
        "id": "0ff9e6c7",
        "outputId": "180c52a8-9f4c-43ce-b2d6-015e1d3f5b6f"
      },
      "outputs": [
        {
          "data": {
            "text/html": [
              "<div>\n",
              "<style scoped>\n",
              "    .dataframe tbody tr th:only-of-type {\n",
              "        vertical-align: middle;\n",
              "    }\n",
              "\n",
              "    .dataframe tbody tr th {\n",
              "        vertical-align: top;\n",
              "    }\n",
              "\n",
              "    .dataframe thead th {\n",
              "        text-align: right;\n",
              "    }\n",
              "</style>\n",
              "<table border=\"1\" class=\"dataframe\">\n",
              "  <thead>\n",
              "    <tr style=\"text-align: right;\">\n",
              "      <th></th>\n",
              "      <th>wage</th>\n",
              "      <th>hours</th>\n",
              "      <th>IQ</th>\n",
              "      <th>KWW</th>\n",
              "      <th>educ</th>\n",
              "      <th>exper</th>\n",
              "      <th>tenure</th>\n",
              "      <th>age</th>\n",
              "      <th>married</th>\n",
              "      <th>black</th>\n",
              "      <th>south</th>\n",
              "      <th>urban</th>\n",
              "      <th>sibs</th>\n",
              "    </tr>\n",
              "  </thead>\n",
              "  <tbody>\n",
              "    <tr>\n",
              "      <th>count</th>\n",
              "      <td>935.000000</td>\n",
              "      <td>935.000000</td>\n",
              "      <td>935.000000</td>\n",
              "      <td>935.000000</td>\n",
              "      <td>935.000000</td>\n",
              "      <td>935.000000</td>\n",
              "      <td>935.000000</td>\n",
              "      <td>935.000000</td>\n",
              "      <td>935.000000</td>\n",
              "      <td>935.000000</td>\n",
              "      <td>935.000000</td>\n",
              "      <td>935.000000</td>\n",
              "      <td>935.000000</td>\n",
              "    </tr>\n",
              "    <tr>\n",
              "      <th>mean</th>\n",
              "      <td>957.945455</td>\n",
              "      <td>43.929412</td>\n",
              "      <td>101.282353</td>\n",
              "      <td>35.744385</td>\n",
              "      <td>13.468449</td>\n",
              "      <td>11.563636</td>\n",
              "      <td>7.234225</td>\n",
              "      <td>33.080214</td>\n",
              "      <td>0.893048</td>\n",
              "      <td>0.128342</td>\n",
              "      <td>0.341176</td>\n",
              "      <td>0.717647</td>\n",
              "      <td>2.941176</td>\n",
              "    </tr>\n",
              "    <tr>\n",
              "      <th>std</th>\n",
              "      <td>404.360822</td>\n",
              "      <td>7.224256</td>\n",
              "      <td>15.052636</td>\n",
              "      <td>7.638788</td>\n",
              "      <td>2.196654</td>\n",
              "      <td>4.374586</td>\n",
              "      <td>5.075206</td>\n",
              "      <td>3.107803</td>\n",
              "      <td>0.309217</td>\n",
              "      <td>0.334650</td>\n",
              "      <td>0.474358</td>\n",
              "      <td>0.450385</td>\n",
              "      <td>2.306254</td>\n",
              "    </tr>\n",
              "    <tr>\n",
              "      <th>min</th>\n",
              "      <td>115.000000</td>\n",
              "      <td>20.000000</td>\n",
              "      <td>50.000000</td>\n",
              "      <td>12.000000</td>\n",
              "      <td>9.000000</td>\n",
              "      <td>1.000000</td>\n",
              "      <td>0.000000</td>\n",
              "      <td>28.000000</td>\n",
              "      <td>0.000000</td>\n",
              "      <td>0.000000</td>\n",
              "      <td>0.000000</td>\n",
              "      <td>0.000000</td>\n",
              "      <td>0.000000</td>\n",
              "    </tr>\n",
              "    <tr>\n",
              "      <th>25%</th>\n",
              "      <td>669.000000</td>\n",
              "      <td>40.000000</td>\n",
              "      <td>92.000000</td>\n",
              "      <td>31.000000</td>\n",
              "      <td>12.000000</td>\n",
              "      <td>8.000000</td>\n",
              "      <td>3.000000</td>\n",
              "      <td>30.000000</td>\n",
              "      <td>1.000000</td>\n",
              "      <td>0.000000</td>\n",
              "      <td>0.000000</td>\n",
              "      <td>0.000000</td>\n",
              "      <td>1.000000</td>\n",
              "    </tr>\n",
              "    <tr>\n",
              "      <th>50%</th>\n",
              "      <td>905.000000</td>\n",
              "      <td>40.000000</td>\n",
              "      <td>102.000000</td>\n",
              "      <td>37.000000</td>\n",
              "      <td>12.000000</td>\n",
              "      <td>11.000000</td>\n",
              "      <td>7.000000</td>\n",
              "      <td>33.000000</td>\n",
              "      <td>1.000000</td>\n",
              "      <td>0.000000</td>\n",
              "      <td>0.000000</td>\n",
              "      <td>1.000000</td>\n",
              "      <td>2.000000</td>\n",
              "    </tr>\n",
              "    <tr>\n",
              "      <th>75%</th>\n",
              "      <td>1160.000000</td>\n",
              "      <td>48.000000</td>\n",
              "      <td>112.000000</td>\n",
              "      <td>41.000000</td>\n",
              "      <td>16.000000</td>\n",
              "      <td>15.000000</td>\n",
              "      <td>11.000000</td>\n",
              "      <td>36.000000</td>\n",
              "      <td>1.000000</td>\n",
              "      <td>0.000000</td>\n",
              "      <td>1.000000</td>\n",
              "      <td>1.000000</td>\n",
              "      <td>4.000000</td>\n",
              "    </tr>\n",
              "    <tr>\n",
              "      <th>max</th>\n",
              "      <td>3078.000000</td>\n",
              "      <td>80.000000</td>\n",
              "      <td>145.000000</td>\n",
              "      <td>56.000000</td>\n",
              "      <td>18.000000</td>\n",
              "      <td>23.000000</td>\n",
              "      <td>22.000000</td>\n",
              "      <td>38.000000</td>\n",
              "      <td>1.000000</td>\n",
              "      <td>1.000000</td>\n",
              "      <td>1.000000</td>\n",
              "      <td>1.000000</td>\n",
              "      <td>14.000000</td>\n",
              "    </tr>\n",
              "  </tbody>\n",
              "</table>\n",
              "</div>"
            ],
            "text/plain": [
              "              wage       hours          IQ  ...       south       urban        sibs\n",
              "count   935.000000  935.000000  935.000000  ...  935.000000  935.000000  935.000000\n",
              "mean    957.945455   43.929412  101.282353  ...    0.341176    0.717647    2.941176\n",
              "std     404.360822    7.224256   15.052636  ...    0.474358    0.450385    2.306254\n",
              "min     115.000000   20.000000   50.000000  ...    0.000000    0.000000    0.000000\n",
              "25%     669.000000   40.000000   92.000000  ...    0.000000    0.000000    1.000000\n",
              "50%     905.000000   40.000000  102.000000  ...    0.000000    1.000000    2.000000\n",
              "75%    1160.000000   48.000000  112.000000  ...    1.000000    1.000000    4.000000\n",
              "max    3078.000000   80.000000  145.000000  ...    1.000000    1.000000   14.000000\n",
              "\n",
              "[8 rows x 13 columns]"
            ]
          },
          "execution_count": 53,
          "metadata": {},
          "output_type": "execute_result"
        }
      ],
      "source": [
        "df.describe()"
      ]
    },
    {
      "cell_type": "code",
      "execution_count": null,
      "id": "39c57084",
      "metadata": {
        "ExecuteTime": {
          "end_time": "2022-09-14T03:10:29.259811Z",
          "start_time": "2022-09-14T03:10:29.024454Z"
        },
        "id": "39c57084",
        "outputId": "1de8ed9e-84d2-4eff-c314-733a8208e8ee"
      },
      "outputs": [
        {
          "name": "stderr",
          "output_type": "stream",
          "text": [
            "/Users/juancamilosierra/opt/anaconda3/lib/python3.9/site-packages/seaborn/distributions.py:2211: UserWarning: `displot` is a figure-level function and does not accept the ax= paramter. You may wish to try histplot.\n",
            "  warnings.warn(msg, UserWarning)\n",
            "/Users/juancamilosierra/opt/anaconda3/lib/python3.9/site-packages/seaborn/distributions.py:2211: UserWarning: `displot` is a figure-level function and does not accept the ax= paramter. You may wish to try histplot.\n",
            "  warnings.warn(msg, UserWarning)\n"
          ]
        },
        {
          "data": {
            "text/plain": [
              "<seaborn.axisgrid.FacetGrid at 0x7fa71af71070>"
            ]
          },
          "execution_count": 63,
          "metadata": {},
          "output_type": "execute_result"
        },
        {
          "data": {
            "image/png": "[encoded data removed]",
            "text/plain": [
              "<Figure size 360x360 with 1 Axes>"
            ]
          },
          "metadata": {},
          "output_type": "display_data"
        },
        {
          "data": {
            "image/png": "[encoded data removed]",
            "text/plain": [
              "<Figure size 360x360 with 1 Axes>"
            ]
          },
          "metadata": {},
          "output_type": "display_data"
        }
      ],
      "source": [
        "import matplotlib.pyplot as plt\n",
        "\n",
        "\n",
        "sns.displot(df.wage, ax=axs[0], label=\"A\")\n",
        "sns.displot(df.exper, ax=axs[1], label=\"B\")\n",
        "\n",
        "\n"
      ]
    },
    {
      "cell_type": "code",
      "execution_count": null,
      "id": "ce8e1740",
      "metadata": {
        "ExecuteTime": {
          "end_time": "2022-09-14T03:08:53.249021Z",
          "start_time": "2022-09-14T03:08:53.240757Z"
        },
        "id": "ce8e1740"
      },
      "outputs": [],
      "source": [
        "wage2['lwage'] = np.log(wage2['wage'])"
      ]
    },
    {
      "cell_type": "code",
      "execution_count": null,
      "id": "82eeca6e",
      "metadata": {
        "ExecuteTime": {
          "end_time": "2022-09-14T03:09:00.233656Z",
          "start_time": "2022-09-14T03:09:00.194027Z"
        },
        "id": "82eeca6e",
        "outputId": "ec967308-7317-4a4f-a26c-10d1c669529b"
      },
      "outputs": [
        {
          "name": "stdout",
          "output_type": "stream",
          "text": [
            "                            OLS Regression Results                            \n",
            "==============================================================================\n",
            "Dep. Variable:                  lwage   R-squared:                       0.183\n",
            "Model:                            OLS   Adj. R-squared:                  0.179\n",
            "Method:                 Least Squares   F-statistic:                     52.04\n",
            "Date:                Tue, 13 Sep 2022   Prob (F-statistic):           1.40e-39\n",
            "Time:                        22:09:00   Log-Likelihood:                -423.21\n",
            "No. Observations:                 935   AIC:                             856.4\n",
            "Df Residuals:                     930   BIC:                             880.6\n",
            "Df Model:                           4                                         \n",
            "Covariance Type:            nonrobust                                         \n",
            "==============================================================================\n",
            "                 coef    std err          t      P>|t|      [0.025      0.975]\n",
            "------------------------------------------------------------------------------\n",
            "Intercept      5.2099      0.120     43.370      0.000       4.974       5.446\n",
            "educ           0.0556      0.007      7.648      0.000       0.041       0.070\n",
            "exper          0.0154      0.003      4.652      0.000       0.009       0.022\n",
            "tenure         0.0124      0.003      4.847      0.000       0.007       0.017\n",
            "IQ             0.0055      0.001      5.623      0.000       0.004       0.007\n",
            "==============================================================================\n",
            "Omnibus:                       26.354   Durbin-Watson:                   1.792\n",
            "Prob(Omnibus):                  0.000   Jarque-Bera (JB):               42.894\n",
            "Skew:                          -0.229   Prob(JB):                     4.85e-10\n",
            "Kurtosis:                       3.944   Cond. No.                     1.00e+03\n",
            "==============================================================================\n",
            "\n",
            "Notes:\n",
            "[1] Standard Errors assume that the covariance matrix of the errors is correctly specified.\n",
            "[2] The condition number is large,  1e+03. This might indicate that there are\n",
            "strong multicollinearity or other numerical problems.\n"
          ]
        }
      ],
      "source": [
        "reg = smf.ols('lwage ~ educ + exper + tenure + IQ ', data=wage2)\n",
        "res = reg.fit()\n",
        "print(res.summary())"
      ]
    },
    {
      "cell_type": "code",
      "execution_count": null,
      "id": "2245a8c2",
      "metadata": {
        "ExecuteTime": {
          "end_time": "2022-09-14T03:10:14.603558Z",
          "start_time": "2022-09-14T03:10:14.366176Z"
        },
        "id": "2245a8c2",
        "outputId": "0b23c3e8-f5a4-42bc-ec0d-384fcb3187e7"
      },
      "outputs": [
        {
          "name": "stderr",
          "output_type": "stream",
          "text": [
            "/Users/juancamilosierra/opt/anaconda3/lib/python3.9/site-packages/seaborn/distributions.py:2211: UserWarning: `displot` is a figure-level function and does not accept the ax= paramter. You may wish to try histplot.\n",
            "  warnings.warn(msg, UserWarning)\n",
            "/Users/juancamilosierra/opt/anaconda3/lib/python3.9/site-packages/seaborn/distributions.py:2211: UserWarning: `displot` is a figure-level function and does not accept the ax= paramter. You may wish to try histplot.\n",
            "  warnings.warn(msg, UserWarning)\n"
          ]
        },
        {
          "data": {
            "text/plain": [
              "<seaborn.axisgrid.FacetGrid at 0x7fa71ce31ac0>"
            ]
          },
          "execution_count": 62,
          "metadata": {},
          "output_type": "execute_result"
        },
        {
          "data": {
            "image/png": "[encoded data removed]",
            "text/plain": [
              "<Figure size 360x360 with 1 Axes>"
            ]
          },
          "metadata": {},
          "output_type": "display_data"
        },
        {
          "data": {
            "image/png": "[encoded data removed]",
            "text/plain": [
              "<Figure size 360x360 with 1 Axes>"
            ]
          },
          "metadata": {},
          "output_type": "display_data"
        }
      ],
      "source": [
        "import matplotlib.pyplot as plt\n",
        "\n",
        "sns.displot(wage2.lwage, ax=axs[0], label=\"A\")\n",
        "sns.displot(wage2.exper, ax=axs[1], label=\"B\")\n"
      ]
    }
  ],
  "metadata": {
    "kernelspec": {
      "display_name": "Python 3 (ipykernel)",
      "language": "python",
      "name": "python3"
    },
    "language_info": {
      "codemirror_mode": {
        "name": "ipython",
        "version": 3
      },
      "file_extension": ".py",
      "mimetype": "text/x-python",
      "name": "python",
      "nbconvert_exporter": "python",
      "pygments_lexer": "ipython3",
      "version": "3.9.12"
    },
    "colab": {
      "provenance": [],
      "include_colab_link": true
    }
  },
  "nbformat": 4,
  "nbformat_minor": 5
}